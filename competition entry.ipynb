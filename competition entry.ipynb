{
 "cells": [
  {
   "cell_type": "markdown",
   "id": "23d075ae-96be-4b76-8048-60927ecee7a5",
   "metadata": {},
   "source": [
    "# PyData 2022 Charting competition"
   ]
  },
  {
   "cell_type": "markdown",
   "id": "98e88725-e30a-4ce3-9da8-041f68b6b30d",
   "metadata": {},
   "source": [
    "make the notebook reproducible, these are required by \n",
    "```python\n",
    "pd.read_parquet\n",
    "```"
   ]
  },
  {
   "cell_type": "code",
   "execution_count": null,
   "id": "a0973a3d-1f4a-42e8-a659-5b7250eb5095",
   "metadata": {},
   "outputs": [],
   "source": [
    "%pip install pyarrow\n",
    "%pip install fastparquet"
   ]
  },
  {
   "cell_type": "markdown",
   "id": "957a7592-1f4f-4a87-8939-25108729451b",
   "metadata": {},
   "source": [
    "this is required for the git extension"
   ]
  },
  {
   "cell_type": "code",
   "execution_count": null,
   "id": "7d6d705d-e203-448d-861d-ea9f3a2f19e6",
   "metadata": {},
   "outputs": [],
   "source": [
    "%pip install jupyterlab-git"
   ]
  },
  {
   "cell_type": "code",
   "execution_count": null,
   "id": "8692c4e6-0093-4d95-b514-05cbcd826e68",
   "metadata": {},
   "outputs": [],
   "source": [
    "import pandas as pd\n",
    "\n",
    "df = pd.read_parquet(\"./option_chain_data.parquet\")"
   ]
  },
  {
   "cell_type": "code",
   "execution_count": null,
   "id": "f145f354-e973-4015-a9f1-7a004adf983d",
   "metadata": {},
   "outputs": [
    {
     "data": {
      "text/html": [
       "<div>\n",
       "<style scoped>\n",
       "    .dataframe tbody tr th:only-of-type {\n",
       "        vertical-align: middle;\n",
       "    }\n",
       "\n",
       "    .dataframe tbody tr th {\n",
       "        vertical-align: top;\n",
       "    }\n",
       "\n",
       "    .dataframe thead th {\n",
       "        text-align: right;\n",
       "    }\n",
       "</style>\n",
       "<table border=\"1\" class=\"dataframe\">\n",
       "  <thead>\n",
       "    <tr style=\"text-align: right;\">\n",
       "      <th></th>\n",
       "      <th>contractSymbol</th>\n",
       "      <th>lastTradeDate</th>\n",
       "      <th>strike</th>\n",
       "      <th>lastPrice</th>\n",
       "      <th>bid</th>\n",
       "      <th>ask</th>\n",
       "      <th>change</th>\n",
       "      <th>percentChange</th>\n",
       "      <th>volume</th>\n",
       "      <th>openInterest</th>\n",
       "      <th>impliedVolatility</th>\n",
       "      <th>inTheMoney</th>\n",
       "      <th>contractSize</th>\n",
       "      <th>currency</th>\n",
       "      <th>date</th>\n",
       "      <th>ticker</th>\n",
       "      <th>type</th>\n",
       "    </tr>\n",
       "  </thead>\n",
       "  <tbody>\n",
       "    <tr>\n",
       "      <th>0</th>\n",
       "      <td>GOOG220617C00700000</td>\n",
       "      <td>2022-01-05 17:22:59+00:00</td>\n",
       "      <td>700.0</td>\n",
       "      <td>2121.21</td>\n",
       "      <td>2050.8</td>\n",
       "      <td>2066.0</td>\n",
       "      <td>-106.91992</td>\n",
       "      <td>-4.79864</td>\n",
       "      <td>1.0</td>\n",
       "      <td>205.0</td>\n",
       "      <td>9.810185</td>\n",
       "      <td>1.0</td>\n",
       "      <td>REGULAR</td>\n",
       "      <td>USD</td>\n",
       "      <td>2022-05-19</td>\n",
       "      <td>GOOG</td>\n",
       "      <td>Call</td>\n",
       "    </tr>\n",
       "    <tr>\n",
       "      <th>1</th>\n",
       "      <td>GOOG220617C00720000</td>\n",
       "      <td>2021-11-08 18:25:44+00:00</td>\n",
       "      <td>720.0</td>\n",
       "      <td>2277.80</td>\n",
       "      <td>2246.3</td>\n",
       "      <td>2265.0</td>\n",
       "      <td>0.00000</td>\n",
       "      <td>0.00000</td>\n",
       "      <td>20.0</td>\n",
       "      <td>108.0</td>\n",
       "      <td>0.000000</td>\n",
       "      <td>1.0</td>\n",
       "      <td>REGULAR</td>\n",
       "      <td>USD</td>\n",
       "      <td>2022-05-19</td>\n",
       "      <td>GOOG</td>\n",
       "      <td>Call</td>\n",
       "    </tr>\n",
       "    <tr>\n",
       "      <th>2</th>\n",
       "      <td>GOOG220617C00740000</td>\n",
       "      <td>2021-11-10 11:51:11+00:00</td>\n",
       "      <td>740.0</td>\n",
       "      <td>2013.89</td>\n",
       "      <td>2226.2</td>\n",
       "      <td>2242.1</td>\n",
       "      <td>0.00000</td>\n",
       "      <td>0.00000</td>\n",
       "      <td>2.0</td>\n",
       "      <td>112.0</td>\n",
       "      <td>17.746342</td>\n",
       "      <td>1.0</td>\n",
       "      <td>REGULAR</td>\n",
       "      <td>USD</td>\n",
       "      <td>2022-05-19</td>\n",
       "      <td>GOOG</td>\n",
       "      <td>Call</td>\n",
       "    </tr>\n",
       "    <tr>\n",
       "      <th>3</th>\n",
       "      <td>GOOG220617C00760000</td>\n",
       "      <td>2021-11-10 11:51:11+00:00</td>\n",
       "      <td>760.0</td>\n",
       "      <td>1974.24</td>\n",
       "      <td>2206.9</td>\n",
       "      <td>2222.1</td>\n",
       "      <td>0.00000</td>\n",
       "      <td>0.00000</td>\n",
       "      <td>44.0</td>\n",
       "      <td>95.0</td>\n",
       "      <td>15.505127</td>\n",
       "      <td>1.0</td>\n",
       "      <td>REGULAR</td>\n",
       "      <td>USD</td>\n",
       "      <td>2022-05-19</td>\n",
       "      <td>GOOG</td>\n",
       "      <td>Call</td>\n",
       "    </tr>\n",
       "    <tr>\n",
       "      <th>4</th>\n",
       "      <td>GOOG220617C00780000</td>\n",
       "      <td>2021-11-10 11:51:11+00:00</td>\n",
       "      <td>780.0</td>\n",
       "      <td>2088.11</td>\n",
       "      <td>2187.7</td>\n",
       "      <td>2204.0</td>\n",
       "      <td>0.00000</td>\n",
       "      <td>0.00000</td>\n",
       "      <td>2.0</td>\n",
       "      <td>121.0</td>\n",
       "      <td>14.298585</td>\n",
       "      <td>1.0</td>\n",
       "      <td>REGULAR</td>\n",
       "      <td>USD</td>\n",
       "      <td>2022-05-19</td>\n",
       "      <td>GOOG</td>\n",
       "      <td>Call</td>\n",
       "    </tr>\n",
       "  </tbody>\n",
       "</table>\n",
       "</div>"
      ],
      "text/plain": [
       "        contractSymbol             lastTradeDate  strike  lastPrice     bid  \\\n",
       "0  GOOG220617C00700000 2022-01-05 17:22:59+00:00   700.0    2121.21  2050.8   \n",
       "1  GOOG220617C00720000 2021-11-08 18:25:44+00:00   720.0    2277.80  2246.3   \n",
       "2  GOOG220617C00740000 2021-11-10 11:51:11+00:00   740.0    2013.89  2226.2   \n",
       "3  GOOG220617C00760000 2021-11-10 11:51:11+00:00   760.0    1974.24  2206.9   \n",
       "4  GOOG220617C00780000 2021-11-10 11:51:11+00:00   780.0    2088.11  2187.7   \n",
       "\n",
       "      ask     change  percentChange  volume  openInterest  impliedVolatility  \\\n",
       "0  2066.0 -106.91992       -4.79864     1.0         205.0           9.810185   \n",
       "1  2265.0    0.00000        0.00000    20.0         108.0           0.000000   \n",
       "2  2242.1    0.00000        0.00000     2.0         112.0          17.746342   \n",
       "3  2222.1    0.00000        0.00000    44.0          95.0          15.505127   \n",
       "4  2204.0    0.00000        0.00000     2.0         121.0          14.298585   \n",
       "\n",
       "   inTheMoney contractSize currency        date ticker  type  \n",
       "0         1.0      REGULAR      USD  2022-05-19   GOOG  Call  \n",
       "1         1.0      REGULAR      USD  2022-05-19   GOOG  Call  \n",
       "2         1.0      REGULAR      USD  2022-05-19   GOOG  Call  \n",
       "3         1.0      REGULAR      USD  2022-05-19   GOOG  Call  \n",
       "4         1.0      REGULAR      USD  2022-05-19   GOOG  Call  "
      ]
     },
     "execution_count": 3,
     "metadata": {},
     "output_type": "execute_result"
    }
   ],
   "source": [
    "df.head()"
   ]
  },
  {
   "cell_type": "code",
   "execution_count": null,
   "id": "776f11ef-c9fb-41a4-9e7f-8103d013aec2",
   "metadata": {},
   "outputs": [
    {
     "data": {
      "text/plain": [
       "count      299\n",
       "unique       1\n",
       "top       GOOG\n",
       "freq       299\n",
       "Name: ticker, dtype: object"
      ]
     },
     "execution_count": 4,
     "metadata": {},
     "output_type": "execute_result"
    }
   ],
   "source": [
    "df['ticker'].describe()"
   ]
  },
  {
   "cell_type": "code",
   "execution_count": null,
   "id": "1259c9da-ed8b-4e87-a7a1-96a5497c543d",
   "metadata": {},
   "outputs": [
    {
     "data": {
      "text/plain": [
       "array(['Call', 'Put'], dtype=object)"
      ]
     },
     "execution_count": 5,
     "metadata": {},
     "output_type": "execute_result"
    }
   ],
   "source": [
    "df['type'].unique()"
   ]
  },
  {
   "cell_type": "code",
   "execution_count": null,
   "id": "7b61bf7d-f31d-4095-b7c1-e1d092115c6c",
   "metadata": {},
   "outputs": [
    {
     "data": {
      "text/plain": [
       "<AxesSubplot:title={'center':'Call'}, xlabel='lastTradeDate', ylabel='lastPrice'>"
      ]
     },
     "execution_count": 6,
     "metadata": {},
     "output_type": "execute_result"
    },
    {
     "data": {
      "image/png": "[encoded data removed]",
      "text/plain": [
       "<Figure size 432x288 with 1 Axes>"
      ]
     },
     "metadata": {
      "needs_background": "light"
     },
     "output_type": "display_data"
    }
   ],
   "source": [
    "df.query('type==\"Call\"').plot(kind='scatter',x='lastTradeDate',y='lastPrice',rot=45,\\\n",
    "        color= \"tab:orange\",title='Call')"
   ]
  },
  {
   "cell_type": "code",
   "execution_count": null,
   "id": "cdcb935f-f92c-4bae-9fff-2062f9ba568c",
   "metadata": {},
   "outputs": [
    {
     "data": {
      "text/plain": [
       "<AxesSubplot:title={'center':'Call last price histogram'}, ylabel='Frequency'>"
      ]
     },
     "execution_count": 7,
     "metadata": {},
     "output_type": "execute_result"
    },
    {
     "data": {
      "image/png": "[encoded data removed]",
      "text/plain": [
       "<Figure size 432x288 with 1 Axes>"
      ]
     },
     "metadata": {
      "needs_background": "light"
     },
     "output_type": "display_data"
    }
   ],
   "source": [
    "df.query('type==\"Call\"')['lastPrice'].plot(kind='hist',color= \"tab:orange\",title='Call last price histogram')"
   ]
  },
  {
   "cell_type": "code",
   "execution_count": null,
   "id": "451c1814-0e23-4011-a6fb-52688f089772",
   "metadata": {},
   "outputs": [
    {
     "data": {
      "text/plain": [
       "<AxesSubplot:title={'center':'Put'}, xlabel='lastTradeDate', ylabel='lastPrice'>"
      ]
     },
     "execution_count": 8,
     "metadata": {},
     "output_type": "execute_result"
    },
    {
     "data": {
      "image/png": "[encoded data removed]",
      "text/plain": [
       "<Figure size 432x288 with 1 Axes>"
      ]
     },
     "metadata": {
      "needs_background": "light"
     },
     "output_type": "display_data"
    }
   ],
   "source": [
    "df.query('type==\"Put\"').plot(kind='scatter',x='lastTradeDate',y='lastPrice',rot=45,\\\n",
    "        color= \"tab:green\",title='Put')"
   ]
  },
  {
   "cell_type": "code",
   "execution_count": 12,
   "id": "59aae450-42bc-4850-91dc-b697ac65eac1",
   "metadata": {},
   "outputs": [
    {
     "data": {
      "text/plain": [
       "<AxesSubplot:title={'center':'Put last price histogram'}, ylabel='Frequency'>"
      ]
     },
     "execution_count": 12,
     "metadata": {},
     "output_type": "execute_result"
    },
    {
     "data": {
      "image/png": "[encoded data removed]",
      "text/plain": [
       "<Figure size 432x288 with 1 Axes>"
      ]
     },
     "metadata": {
      "needs_background": "light"
     },
     "output_type": "display_data"
    }
   ],
   "source": [
    "df.query('type==\"Put\"')['lastPrice'].plot(kind='hist',color= \"tab:green\",title='Put last price histogram')"
   ]
  },
  {
   "cell_type": "code",
   "execution_count": 11,
   "id": "7015b45b-8ca8-4b3e-8ec9-1b2109b03fdc",
   "metadata": {},
   "outputs": [
    {
     "data": {
      "text/plain": [
       "2022-05-19    299\n",
       "Name: date, dtype: int64"
      ]
     },
     "execution_count": 11,
     "metadata": {},
     "output_type": "execute_result"
    }
   ],
   "source": [
    "df['date'].value_counts()"
   ]
  },
  {
   "cell_type": "code",
   "execution_count": 18,
   "id": "f7acb5a5-c624-4630-bd2a-03c70f8f299c",
   "metadata": {},
   "outputs": [
    {
     "data": {
      "text/html": [
       "<div>\n",
       "<style scoped>\n",
       "    .dataframe tbody tr th:only-of-type {\n",
       "        vertical-align: middle;\n",
       "    }\n",
       "\n",
       "    .dataframe tbody tr th {\n",
       "        vertical-align: top;\n",
       "    }\n",
       "\n",
       "    .dataframe thead th {\n",
       "        text-align: right;\n",
       "    }\n",
       "</style>\n",
       "<table border=\"1\" class=\"dataframe\">\n",
       "  <thead>\n",
       "    <tr style=\"text-align: right;\">\n",
       "      <th></th>\n",
       "      <th>strike</th>\n",
       "      <th>lastPrice</th>\n",
       "      <th>bid</th>\n",
       "      <th>ask</th>\n",
       "      <th>change</th>\n",
       "      <th>percentChange</th>\n",
       "      <th>volume</th>\n",
       "      <th>openInterest</th>\n",
       "      <th>impliedVolatility</th>\n",
       "      <th>inTheMoney</th>\n",
       "    </tr>\n",
       "  </thead>\n",
       "  <tbody>\n",
       "    <tr>\n",
       "      <th>strike</th>\n",
       "      <td>1.000000</td>\n",
       "      <td>-0.350763</td>\n",
       "      <td>-0.368835</td>\n",
       "      <td>-0.365694</td>\n",
       "      <td>-0.051116</td>\n",
       "      <td>-0.137423</td>\n",
       "      <td>-0.056543</td>\n",
       "      <td>0.119015</td>\n",
       "      <td>-0.530406</td>\n",
       "      <td>-0.007865</td>\n",
       "    </tr>\n",
       "    <tr>\n",
       "      <th>lastPrice</th>\n",
       "      <td>-0.350763</td>\n",
       "      <td>1.000000</td>\n",
       "      <td>0.966185</td>\n",
       "      <td>0.966393</td>\n",
       "      <td>0.012045</td>\n",
       "      <td>-0.015513</td>\n",
       "      <td>-0.095757</td>\n",
       "      <td>-0.154942</td>\n",
       "      <td>0.848728</td>\n",
       "      <td>0.626343</td>\n",
       "    </tr>\n",
       "    <tr>\n",
       "      <th>bid</th>\n",
       "      <td>-0.368835</td>\n",
       "      <td>0.966185</td>\n",
       "      <td>1.000000</td>\n",
       "      <td>0.999969</td>\n",
       "      <td>0.023975</td>\n",
       "      <td>-0.008621</td>\n",
       "      <td>-0.099350</td>\n",
       "      <td>-0.163118</td>\n",
       "      <td>0.877332</td>\n",
       "      <td>0.663278</td>\n",
       "    </tr>\n",
       "    <tr>\n",
       "      <th>ask</th>\n",
       "      <td>-0.365694</td>\n",
       "      <td>0.966393</td>\n",
       "      <td>0.999969</td>\n",
       "      <td>1.000000</td>\n",
       "      <td>0.023816</td>\n",
       "      <td>-0.008084</td>\n",
       "      <td>-0.100022</td>\n",
       "      <td>-0.163190</td>\n",
       "      <td>0.876182</td>\n",
       "      <td>0.665627</td>\n",
       "    </tr>\n",
       "    <tr>\n",
       "      <th>change</th>\n",
       "      <td>-0.051116</td>\n",
       "      <td>0.012045</td>\n",
       "      <td>0.023975</td>\n",
       "      <td>0.023816</td>\n",
       "      <td>1.000000</td>\n",
       "      <td>0.621520</td>\n",
       "      <td>0.009866</td>\n",
       "      <td>0.024750</td>\n",
       "      <td>-0.035940</td>\n",
       "      <td>0.215650</td>\n",
       "    </tr>\n",
       "    <tr>\n",
       "      <th>percentChange</th>\n",
       "      <td>-0.137423</td>\n",
       "      <td>-0.015513</td>\n",
       "      <td>-0.008621</td>\n",
       "      <td>-0.008084</td>\n",
       "      <td>0.621520</td>\n",
       "      <td>1.000000</td>\n",
       "      <td>0.027440</td>\n",
       "      <td>0.102928</td>\n",
       "      <td>-0.093113</td>\n",
       "      <td>0.317801</td>\n",
       "    </tr>\n",
       "    <tr>\n",
       "      <th>volume</th>\n",
       "      <td>-0.056543</td>\n",
       "      <td>-0.095757</td>\n",
       "      <td>-0.099350</td>\n",
       "      <td>-0.100022</td>\n",
       "      <td>0.009866</td>\n",
       "      <td>0.027440</td>\n",
       "      <td>1.000000</td>\n",
       "      <td>0.063384</td>\n",
       "      <td>-0.050398</td>\n",
       "      <td>-0.113650</td>\n",
       "    </tr>\n",
       "    <tr>\n",
       "      <th>openInterest</th>\n",
       "      <td>0.119015</td>\n",
       "      <td>-0.154942</td>\n",
       "      <td>-0.163118</td>\n",
       "      <td>-0.163190</td>\n",
       "      <td>0.024750</td>\n",
       "      <td>0.102928</td>\n",
       "      <td>0.063384</td>\n",
       "      <td>1.000000</td>\n",
       "      <td>-0.120300</td>\n",
       "      <td>-0.079069</td>\n",
       "    </tr>\n",
       "    <tr>\n",
       "      <th>impliedVolatility</th>\n",
       "      <td>-0.530406</td>\n",
       "      <td>0.848728</td>\n",
       "      <td>0.877332</td>\n",
       "      <td>0.876182</td>\n",
       "      <td>-0.035940</td>\n",
       "      <td>-0.093113</td>\n",
       "      <td>-0.050398</td>\n",
       "      <td>-0.120300</td>\n",
       "      <td>1.000000</td>\n",
       "      <td>0.396766</td>\n",
       "    </tr>\n",
       "    <tr>\n",
       "      <th>inTheMoney</th>\n",
       "      <td>-0.007865</td>\n",
       "      <td>0.626343</td>\n",
       "      <td>0.663278</td>\n",
       "      <td>0.665627</td>\n",
       "      <td>0.215650</td>\n",
       "      <td>0.317801</td>\n",
       "      <td>-0.113650</td>\n",
       "      <td>-0.079069</td>\n",
       "      <td>0.396766</td>\n",
       "      <td>1.000000</td>\n",
       "    </tr>\n",
       "  </tbody>\n",
       "</table>\n",
       "</div>"
      ],
      "text/plain": [
       "                     strike  lastPrice       bid       ask    change  \\\n",
       "strike             1.000000  -0.350763 -0.368835 -0.365694 -0.051116   \n",
       "lastPrice         -0.350763   1.000000  0.966185  0.966393  0.012045   \n",
       "bid               -0.368835   0.966185  1.000000  0.999969  0.023975   \n",
       "ask               -0.365694   0.966393  0.999969  1.000000  0.023816   \n",
       "change            -0.051116   0.012045  0.023975  0.023816  1.000000   \n",
       "percentChange     -0.137423  -0.015513 -0.008621 -0.008084  0.621520   \n",
       "volume            -0.056543  -0.095757 -0.099350 -0.100022  0.009866   \n",
       "openInterest       0.119015  -0.154942 -0.163118 -0.163190  0.024750   \n",
       "impliedVolatility -0.530406   0.848728  0.877332  0.876182 -0.035940   \n",
       "inTheMoney        -0.007865   0.626343  0.663278  0.665627  0.215650   \n",
       "\n",
       "                   percentChange    volume  openInterest  impliedVolatility  \\\n",
       "strike                 -0.137423 -0.056543      0.119015          -0.530406   \n",
       "lastPrice              -0.015513 -0.095757     -0.154942           0.848728   \n",
       "bid                    -0.008621 -0.099350     -0.163118           0.877332   \n",
       "ask                    -0.008084 -0.100022     -0.163190           0.876182   \n",
       "change                  0.621520  0.009866      0.024750          -0.035940   \n",
       "percentChange           1.000000  0.027440      0.102928          -0.093113   \n",
       "volume                  0.027440  1.000000      0.063384          -0.050398   \n",
       "openInterest            0.102928  0.063384      1.000000          -0.120300   \n",
       "impliedVolatility      -0.093113 -0.050398     -0.120300           1.000000   \n",
       "inTheMoney              0.317801 -0.113650     -0.079069           0.396766   \n",
       "\n",
       "                   inTheMoney  \n",
       "strike              -0.007865  \n",
       "lastPrice            0.626343  \n",
       "bid                  0.663278  \n",
       "ask                  0.665627  \n",
       "change               0.215650  \n",
       "percentChange        0.317801  \n",
       "volume              -0.113650  \n",
       "openInterest        -0.079069  \n",
       "impliedVolatility    0.396766  \n",
       "inTheMoney           1.000000  "
      ]
     },
     "execution_count": 18,
     "metadata": {},
     "output_type": "execute_result"
    }
   ],
   "source": [
    "df.corr()"
   ]
  },
  {
   "cell_type": "code",
   "execution_count": null,
   "id": "1a633598-14f2-4a0e-8d06-dab144a51c5d",
   "metadata": {},
   "outputs": [],
   "source": []
  }
 ],
 "metadata": {
  "kernelspec": {
   "display_name": "Python 3 (ipykernel)",
   "language": "python",
   "name": "python3"
  },
  "language_info": {
   "codemirror_mode": {
    "name": "ipython",
    "version": 3
   },
   "file_extension": ".py",
   "mimetype": "text/x-python",
   "name": "python",
   "nbconvert_exporter": "python",
   "pygments_lexer": "ipython3",
   "version": "3.9.7"
  }
 },
 "nbformat": 4,
 "nbformat_minor": 5
}
